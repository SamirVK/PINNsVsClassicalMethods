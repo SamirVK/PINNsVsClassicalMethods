{
 "cells": [
  {
   "cell_type": "code",
   "execution_count": 37,
   "id": "826fd2e4",
   "metadata": {},
   "outputs": [],
   "source": [
    "import matplotlib.pyplot as plt\n",
    "import numpy as np\n",
    "import tensorflow as tf\n",
    "from tensorflow import keras\n",
    "from tensorflow.keras import layers\n",
    "\n",
    "tf.keras.backend.set_floatx('float64')"
   ]
  },
  {
   "cell_type": "markdown",
   "id": "b0d5d4c8",
   "metadata": {},
   "source": [
    "### Define the network"
   ]
  },
  {
   "cell_type": "code",
   "execution_count": 38,
   "id": "b4da6f1f",
   "metadata": {},
   "outputs": [
    {
     "name": "stdout",
     "output_type": "stream",
     "text": [
      "Model: \"sequential_5\"\n",
      "_________________________________________________________________\n",
      " Layer (type)                Output Shape              Param #   \n",
      "=================================================================\n",
      " dense_10 (Dense)            (None, 10)                20        \n",
      "                                                                 \n",
      " dense_11 (Dense)            (None, 1)                 10        \n",
      "                                                                 \n",
      "=================================================================\n",
      "Total params: 30\n",
      "Trainable params: 30\n",
      "Non-trainable params: 0\n",
      "_________________________________________________________________\n"
     ]
    }
   ],
   "source": [
    "H = 10\n",
    "\n",
    "model3 = keras.Sequential([\n",
    "    layers.Dense(units = H, activation = 'sigmoid', input_shape = (1,)),\n",
    "    layers.Dense(units = 1, activation = 'linear', use_bias = False)\n",
    "])\n",
    "\n",
    "model3.summary()"
   ]
  },
  {
   "cell_type": "markdown",
   "id": "baed72f3",
   "metadata": {},
   "source": [
    "### Define grid points to use as input data"
   ]
  },
  {
   "cell_type": "code",
   "execution_count": 39,
   "id": "61ececff",
   "metadata": {},
   "outputs": [],
   "source": [
    "a = 0\n",
    "b = 1\n",
    "N = 8\n",
    "h = (b - a)/(N + 1)\n",
    "\n",
    "#Grid points:\n",
    "x = []\n",
    "for i in range(N + 2):\n",
    "    x.append(a + i*h)\n",
    "input_data = np.array(x)\n",
    "input_data = input_data.reshape(10,1)"
   ]
  },
  {
   "cell_type": "markdown",
   "id": "882c7bdc",
   "metadata": {},
   "source": [
    "### Training routine"
   ]
  },
  {
   "cell_type": "code",
   "execution_count": 40,
   "id": "5e853b5f",
   "metadata": {},
   "outputs": [],
   "source": [
    "def trainStep(x,opt):\n",
    "    \n",
    "    # Outer GradientTape for derivatives wrt model parameters\n",
    "    with tf.GradientTape() as tape:\n",
    "        \n",
    "        # Middle GradientTape for first derivative of N wrt x\n",
    "        with tf.GradientTape() as tape1:\n",
    "            tape1.watch(x)\n",
    "            \n",
    "            # Inner GradientTape for second derivative of N wrt x\n",
    "            with tf.GradientTape() as tape2:\n",
    "                tape2.watch(x)\n",
    "            \n",
    "                N = model3([x])\n",
    "            \n",
    "            Nx = tape2.gradient(N, x)\n",
    "        Nxx = tape1.gradient(Nx, x)\n",
    "        \n",
    "        # Plug trial solution into ODE:\n",
    "        eqn = (-2*N + 2*(1-2*x)*Nx + x*(1-x)*Nxx + \n",
    "        0.2*(np.sin(1)*np.exp(-0.2) + (1-2*x)*N+x*(1-x)*Nx) + \n",
    "        x*np.sin(1)*np.exp(-0.2) + x*(1-x)*N + 0.2*np.exp(-x/5)*np.cos(x))\n",
    "        \n",
    "        loss = tf.reduce_sum(tf.square(eqn))\n",
    "        \n",
    "    # Compute the gradient of loss wrt model parameters\n",
    "    grads = tape.gradient(loss, model3.trainable_variables)\n",
    "    \n",
    "    # Gradient step\n",
    "    opt.apply_gradients(zip(grads, model3.trainable_variables))\n",
    "    \n",
    "    return loss"
   ]
  },
  {
   "cell_type": "code",
   "execution_count": 41,
   "id": "021647b5",
   "metadata": {},
   "outputs": [],
   "source": [
    "def PINNtrain(x, epochs):\n",
    "    \n",
    "    # Define an optimizer\n",
    "    lr = tf.keras.optimizers.schedules.PolynomialDecay(0.1, epochs, 1e-4)\n",
    "    opt = keras.optimizers.Adam(lr)\n",
    "    epoch_loss = np.zeros(epochs)\n",
    "    \n",
    "    input_data = np.column_stack([x]).astype(np.float64)\n",
    "    \n",
    "    batch_size = 5\n",
    "    data_sample = tf.data.Dataset.from_tensor_slices(input_data)\n",
    "    data_sample = data_sample.cache().shuffle(10).batch(batch_size)\n",
    "    \n",
    "    ds = tf.data.Dataset.zip((data_sample))\n",
    "    ds = ds.prefetch(tf.data.experimental.AUTOTUNE)\n",
    "    \n",
    "    # Main training loop\n",
    "    for i in range(epochs):\n",
    "        \n",
    "        for j in ds:\n",
    "            \n",
    "            PDEloss = trainStep(j,opt)\n",
    "            epoch_loss[i] += PDEloss\n",
    "\n",
    "        if np.mod(i, 100)==0 or i == 9999:\n",
    "          print(\"PDE loss in {}th epoch: {: 1.4e}.\".format(i, epoch_loss[i]))\n",
    "    \n",
    "    return epoch_loss"
   ]
  },
  {
   "cell_type": "code",
   "execution_count": 42,
   "id": "b617e2ca",
   "metadata": {},
   "outputs": [
    {
     "name": "stdout",
     "output_type": "stream",
     "text": [
      "PDE loss in 0th epoch:  7.2991e+00.\n",
      "PDE loss in 100th epoch:  1.1269e-04.\n",
      "PDE loss in 200th epoch:  9.0351e-06.\n",
      "PDE loss in 300th epoch:  1.0495e-05.\n",
      "PDE loss in 400th epoch:  6.6493e-06.\n",
      "PDE loss in 500th epoch:  1.0758e-05.\n",
      "PDE loss in 600th epoch:  8.6979e-06.\n",
      "PDE loss in 700th epoch:  6.3566e-06.\n",
      "PDE loss in 800th epoch:  4.1598e-05.\n",
      "PDE loss in 900th epoch:  3.5982e-05.\n",
      "PDE loss in 1000th epoch:  1.3596e-05.\n",
      "PDE loss in 1100th epoch:  1.7318e-05.\n",
      "PDE loss in 1200th epoch:  1.5454e-02.\n",
      "PDE loss in 1300th epoch:  2.7185e-02.\n",
      "PDE loss in 1400th epoch:  7.6185e-04.\n",
      "PDE loss in 1500th epoch:  1.4434e-04.\n",
      "PDE loss in 1600th epoch:  3.3013e-04.\n",
      "PDE loss in 1700th epoch:  3.3990e-05.\n",
      "PDE loss in 1800th epoch:  2.5286e-05.\n",
      "PDE loss in 1900th epoch:  5.7905e-05.\n",
      "PDE loss in 2000th epoch:  4.4104e-04.\n",
      "PDE loss in 2100th epoch:  1.0066e-03.\n",
      "PDE loss in 2200th epoch:  5.6564e-05.\n",
      "PDE loss in 2300th epoch:  1.2533e-04.\n",
      "PDE loss in 2400th epoch:  3.2895e-04.\n",
      "PDE loss in 2500th epoch:  1.0288e-05.\n",
      "PDE loss in 2600th epoch:  2.2760e-02.\n",
      "PDE loss in 2700th epoch:  6.8136e-06.\n",
      "PDE loss in 2800th epoch:  1.2222e-05.\n",
      "PDE loss in 2900th epoch:  4.6090e-06.\n",
      "PDE loss in 3000th epoch:  1.5635e-05.\n",
      "PDE loss in 3100th epoch:  4.0859e-05.\n",
      "PDE loss in 3200th epoch:  6.9885e-06.\n",
      "PDE loss in 3300th epoch:  1.0086e-05.\n",
      "PDE loss in 3400th epoch:  1.8564e-05.\n",
      "PDE loss in 3500th epoch:  4.1611e-04.\n",
      "PDE loss in 3600th epoch:  4.5122e-05.\n",
      "PDE loss in 3700th epoch:  1.4630e-05.\n",
      "PDE loss in 3800th epoch:  3.1289e-04.\n",
      "PDE loss in 3900th epoch:  4.3568e-05.\n",
      "PDE loss in 4000th epoch:  8.7806e-06.\n",
      "PDE loss in 4100th epoch:  5.4448e-06.\n",
      "PDE loss in 4200th epoch:  2.0628e-05.\n",
      "PDE loss in 4300th epoch:  1.6674e-05.\n",
      "PDE loss in 4400th epoch:  2.2114e-05.\n",
      "PDE loss in 4500th epoch:  3.3428e-06.\n",
      "PDE loss in 4600th epoch:  7.7840e-06.\n",
      "PDE loss in 4700th epoch:  7.3969e-06.\n",
      "PDE loss in 4800th epoch:  3.8138e-06.\n",
      "PDE loss in 4900th epoch:  3.2857e-06.\n",
      "PDE loss in 5000th epoch:  2.7913e-06.\n",
      "PDE loss in 5100th epoch:  2.7899e-06.\n",
      "PDE loss in 5200th epoch:  2.8051e-06.\n",
      "PDE loss in 5300th epoch:  2.7910e-06.\n",
      "PDE loss in 5400th epoch:  2.7965e-06.\n",
      "PDE loss in 5500th epoch:  2.8200e-06.\n",
      "PDE loss in 5600th epoch:  2.8303e-06.\n",
      "PDE loss in 5700th epoch:  2.7971e-06.\n",
      "PDE loss in 5800th epoch:  2.7941e-06.\n",
      "PDE loss in 5900th epoch:  2.7859e-06.\n",
      "PDE loss in 6000th epoch:  2.8251e-06.\n",
      "PDE loss in 6100th epoch:  2.8034e-06.\n",
      "PDE loss in 6200th epoch:  2.8178e-06.\n",
      "PDE loss in 6300th epoch:  2.7853e-06.\n",
      "PDE loss in 6400th epoch:  2.7878e-06.\n",
      "PDE loss in 6500th epoch:  2.8309e-06.\n",
      "PDE loss in 6600th epoch:  2.8153e-06.\n",
      "PDE loss in 6700th epoch:  2.8147e-06.\n",
      "PDE loss in 6800th epoch:  2.8492e-06.\n",
      "PDE loss in 6900th epoch:  2.7872e-06.\n",
      "PDE loss in 7000th epoch:  2.9158e-06.\n",
      "PDE loss in 7100th epoch:  2.7927e-06.\n",
      "PDE loss in 7200th epoch:  2.8295e-06.\n",
      "PDE loss in 7300th epoch:  2.9270e-06.\n",
      "PDE loss in 7400th epoch:  2.8488e-06.\n",
      "PDE loss in 7500th epoch:  2.7597e-06.\n",
      "PDE loss in 7600th epoch:  2.8043e-06.\n",
      "PDE loss in 7700th epoch:  2.8134e-06.\n",
      "PDE loss in 7800th epoch:  3.1201e-06.\n",
      "PDE loss in 7900th epoch:  2.9905e-06.\n",
      "PDE loss in 8000th epoch:  2.9122e-06.\n",
      "PDE loss in 8100th epoch:  2.9033e-06.\n",
      "PDE loss in 8200th epoch:  2.7738e-06.\n",
      "PDE loss in 8300th epoch:  2.8211e-06.\n",
      "PDE loss in 8400th epoch:  2.9046e-06.\n",
      "PDE loss in 8500th epoch:  2.8690e-06.\n",
      "PDE loss in 8600th epoch:  2.8211e-06.\n",
      "PDE loss in 8700th epoch:  2.9974e-06.\n",
      "PDE loss in 8800th epoch:  2.9508e-06.\n",
      "PDE loss in 8900th epoch:  2.7211e-06.\n",
      "PDE loss in 9000th epoch:  2.9688e-06.\n",
      "PDE loss in 9100th epoch:  2.7333e-06.\n",
      "PDE loss in 9200th epoch:  2.7252e-06.\n",
      "PDE loss in 9300th epoch:  2.7833e-06.\n",
      "PDE loss in 9400th epoch:  2.7531e-06.\n",
      "PDE loss in 9500th epoch:  2.7820e-06.\n",
      "PDE loss in 9600th epoch:  2.8089e-06.\n",
      "PDE loss in 9700th epoch:  2.7488e-06.\n",
      "PDE loss in 9800th epoch:  2.7861e-06.\n",
      "PDE loss in 9900th epoch:  2.8077e-06.\n",
      "PDE loss in 9999th epoch:  2.6959e-06.\n"
     ]
    }
   ],
   "source": [
    "epochs = 10000\n",
    "loss = PINNtrain(input_data,epochs)"
   ]
  },
  {
   "cell_type": "code",
   "execution_count": 43,
   "id": "d65b9570",
   "metadata": {},
   "outputs": [
    {
     "data": {
      "image/png": "[encoded data removed]",
      "text/plain": [
       "<Figure size 432x288 with 1 Axes>"
      ]
     },
     "metadata": {
      "needs_background": "light"
     },
     "output_type": "display_data"
    }
   ],
   "source": [
    "plt.semilogy(range(0, epochs), loss)\n",
    "plt.xlabel('epochs')\n",
    "plt.ylabel('loss')\n",
    "\n",
    "plt.grid()\n",
    "plt.show()"
   ]
  },
  {
   "cell_type": "code",
   "execution_count": 47,
   "id": "e02566c4",
   "metadata": {
    "scrolled": true
   },
   "outputs": [
    {
     "data": {
      "image/png": "[encoded data removed]",
      "text/plain": [
       "<Figure size 432x288 with 1 Axes>"
      ]
     },
     "metadata": {
      "needs_background": "light"
     },
     "output_type": "display_data"
    }
   ],
   "source": [
    "x = np.linspace(-1,2,300)\n",
    "target = []\n",
    "\n",
    "for i in range(300): \n",
    "    target.append(np.exp(-x[i]/5)*np.sin(x[i])) \n",
    "    \n",
    "plt.plot(x,x*np.sin(1)*np.exp(-1/5) + x*(1-x)*model3([x]).numpy().T[0], label = 'model3')\n",
    "plt.plot(x,target, label = 'target')\n",
    "plt.legend(loc =  'upper left')\n",
    "plt.grid()\n",
    "plt.show()"
   ]
  },
  {
   "cell_type": "code",
   "execution_count": 48,
   "id": "fe3e8e1c",
   "metadata": {},
   "outputs": [
    {
     "data": {
      "image/png": "[encoded data removed]",
      "text/plain": [
       "<Figure size 432x288 with 1 Axes>"
      ]
     },
     "metadata": {
      "needs_background": "light"
     },
     "output_type": "display_data"
    }
   ],
   "source": [
    "grid_points = np.linspace(0,1,10)\n",
    "x = np.linspace(0,1,100)\n",
    "target = []\n",
    "\n",
    "for i in range(100): \n",
    "    target.append(np.exp(-x[i]/5)*np.sin(x[i])) \n",
    "\n",
    "plt.plot(x,target-(x*np.sin(1)*np.exp(-1/5) + x*(1-x)*model3([x]).numpy().T[0]))\n",
    "plt.plot(x,[0]*100, ':r')\n",
    "plt.plot(grid_points,[0]*10, 'o', color = 'red', mfc = 'none', markersize = 5, label = 'grid points')\n",
    "plt.ylabel('Solution Accuracy')\n",
    "plt.xlabel('x')\n",
    "plt.legend(loc = 'upper left')\n",
    "plt.grid()\n",
    "plt.show()"
   ]
  },
  {
   "cell_type": "code",
   "execution_count": null,
   "id": "033f5695",
   "metadata": {},
   "outputs": [],
   "source": []
  }
 ],
 "metadata": {
  "kernelspec": {
   "display_name": "Python 3 (ipykernel)",
   "language": "python",
   "name": "python3"
  },
  "language_info": {
   "codemirror_mode": {
    "name": "ipython",
    "version": 3
   },
   "file_extension": ".py",
   "mimetype": "text/x-python",
   "name": "python",
   "nbconvert_exporter": "python",
   "pygments_lexer": "ipython3",
   "version": "3.9.13"
  }
 },
 "nbformat": 4,
 "nbformat_minor": 5
}
