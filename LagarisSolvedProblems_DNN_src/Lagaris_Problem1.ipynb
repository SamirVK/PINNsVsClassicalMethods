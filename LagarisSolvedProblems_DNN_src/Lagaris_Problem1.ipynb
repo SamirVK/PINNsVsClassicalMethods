{
 "cells": [
  {
   "cell_type": "code",
   "execution_count": 2,
   "id": "e7afa3f0",
   "metadata": {},
   "outputs": [],
   "source": [
    "import matplotlib.pyplot as plt\n",
    "import numpy as np\n",
    "import tensorflow as tf\n",
    "from tensorflow import keras\n",
    "from tensorflow.keras import layers\n",
    "\n",
    "# Force network to output values in double format\n",
    "tf.keras.backend.set_floatx('float64')"
   ]
  },
  {
   "cell_type": "markdown",
   "id": "5f94b6a5",
   "metadata": {},
   "source": [
    "### Define the network"
   ]
  },
  {
   "cell_type": "code",
   "execution_count": 7,
   "id": "8f3864e5",
   "metadata": {},
   "outputs": [
    {
     "name": "stdout",
     "output_type": "stream",
     "text": [
      "Model: \"sequential_4\"\n",
      "_________________________________________________________________\n",
      " Layer (type)                Output Shape              Param #   \n",
      "=================================================================\n",
      " dense_15 (Dense)            (None, 10)                20        \n",
      "                                                                 \n",
      " dense_16 (Dense)            (None, 10)                110       \n",
      "                                                                 \n",
      " dense_17 (Dense)            (None, 10)                110       \n",
      "                                                                 \n",
      " dense_18 (Dense)            (None, 10)                110       \n",
      "                                                                 \n",
      " dense_19 (Dense)            (None, 10)                110       \n",
      "                                                                 \n",
      " dense_20 (Dense)            (None, 1)                 10        \n",
      "                                                                 \n",
      "=================================================================\n",
      "Total params: 470\n",
      "Trainable params: 470\n",
      "Non-trainable params: 0\n",
      "_________________________________________________________________\n"
     ]
    }
   ],
   "source": [
    "# Define the number of sigmoid activations in the hidden layer\n",
    "H = 10\n",
    "\n",
    "model1 = keras.Sequential([\n",
    "    # 1 input -> 10 hidden sigmoids -> 1 linear output\n",
    "    layers.Dense(units = H, activation = 'sigmoid', input_shape = (1,)),\n",
    "    layers.Dense(units = H, activation = 'sigmoid',),\n",
    "    layers.Dense(units = H, activation = 'sigmoid',),\n",
    "    layers.Dense(units = H, activation = 'sigmoid',),\n",
    "    layers.Dense(units = H, activation = 'sigmoid',),\n",
    "    layers.Dense(units = 1, activation = 'linear', use_bias = False)\n",
    "])\n",
    "# Show the model; the output layer has no bias, therefore, 10 weights only\n",
    "model1.summary()"
   ]
  },
  {
   "cell_type": "markdown",
   "id": "ef85ea74",
   "metadata": {},
   "source": [
    "### Define grid points to use as input data"
   ]
  },
  {
   "cell_type": "code",
   "execution_count": 3,
   "id": "9e6c4ef3",
   "metadata": {},
   "outputs": [
    {
     "data": {
      "text/plain": [
       "array([[0.        ],\n",
       "       [0.11111111],\n",
       "       [0.22222222],\n",
       "       [0.33333333],\n",
       "       [0.44444444],\n",
       "       [0.55555556],\n",
       "       [0.66666667],\n",
       "       [0.77777778],\n",
       "       [0.88888889],\n",
       "       [1.        ]])"
      ]
     },
     "execution_count": 3,
     "metadata": {},
     "output_type": "execute_result"
    }
   ],
   "source": [
    "# Endpoints a and b\n",
    "# N + 2 = 10 grid points in total (including a and b)\n",
    "a = 0\n",
    "b = 1\n",
    "N = 8\n",
    "h = (b - a)/(N + 1)\n",
    "\n",
    "# x holds the grid points to be used as input data\n",
    "x = []\n",
    "for i in range(N + 2):\n",
    "    x.append(a + i*h)\n",
    "    \n",
    "# Remake the input data as a numpy array with shape = (10,1)\n",
    "input_data = np.array(x)\n",
    "input_data = input_data.reshape(10,1)\n",
    "input_data"
   ]
  },
  {
   "cell_type": "markdown",
   "id": "c2e018de",
   "metadata": {},
   "source": [
    "### Training routine"
   ]
  },
  {
   "cell_type": "code",
   "execution_count": 87,
   "id": "db67abfc",
   "metadata": {},
   "outputs": [],
   "source": [
    "def trainStep(x,opt):\n",
    "    \n",
    "    # Outer gradient for model parameters\n",
    "    with tf.GradientTape() as tape:\n",
    "        \n",
    "        # Inner gradient for first derivative of N wrt x\n",
    "        with tf.GradientTape() as tape1:\n",
    "            tape1.watch(x)\n",
    "            \n",
    "            # Compute the model output\n",
    "            N = model1([x])\n",
    "        \n",
    "        # Compute dN/dx\n",
    "        Nx = tape1.gradient(N, x)\n",
    "        \n",
    "        # Plug trial solution into ODE:\n",
    "        eqn = (x*Nx + N + (x+(1+3*x**2)/(1+x+x**3))*(1+x*N)-\n",
    "               x**3-2*x-x**2*(1+3*x**2)/(1+x+x**3))\n",
    "        \n",
    "        # The loss is the sum of squares of the residual error over the batch points\n",
    "        loss = tf.reduce_sum(tf.square(eqn))\n",
    "        \n",
    "    # Compute the gradient of loss wrt model parameters\n",
    "    grads = tape.gradient(loss, model1.trainable_variables)\n",
    "    \n",
    "    # Gradient step\n",
    "    opt.apply_gradients(zip(grads, model1.trainable_variables))\n",
    "    \n",
    "    return loss"
   ]
  },
  {
   "cell_type": "code",
   "execution_count": 88,
   "id": "a66c7208",
   "metadata": {},
   "outputs": [],
   "source": [
    "def PINNtrain(x, epochs):\n",
    "    \n",
    "    # Define an optimizer\n",
    "    lr = tf.keras.optimizers.schedules.PolynomialDecay(0.1, epochs, 1e-4)\n",
    "    opt = keras.optimizers.Adam(lr)\n",
    "    \n",
    "    # Define an empty numpy array to hold the loss at each epoch\n",
    "    epoch_loss = np.zeros(epochs)\n",
    "    \n",
    "    # Data preprocessing\n",
    "    batch_size = 5\n",
    "    input_data = np.column_stack([x]).astype(np.float64)\n",
    "    \n",
    "    # Splits the data into batches of size batch_size\n",
    "    data_sample = tf.data.Dataset.from_tensor_slices(input_data)\n",
    "    data_sample = data_sample.cache().shuffle(10).batch(batch_size)\n",
    "    \n",
    "    # ds is made to hold the batches and prefetch minimizes the step time\n",
    "    ds = tf.data.Dataset.zip((data_sample))\n",
    "    ds = ds.prefetch(tf.data.experimental.AUTOTUNE)\n",
    "    \n",
    "    # Main training loop\n",
    "    for i in range(epochs):\n",
    "        \n",
    "        # Iterate over the batches in ds\n",
    "        for j in ds:\n",
    "            \n",
    "            # Compute the loss at the given batch and add to the total loss in the epoch\n",
    "            PDEloss = trainStep(j,opt)\n",
    "            epoch_loss[i] += PDEloss\n",
    "        \n",
    "        # Print the loss at each epoch\n",
    "        if np.mod(i, 100)==0 or i == 9999:\n",
    "          print(\"PDE loss in {}th epoch: {: 1.4e}.\".format(i, epoch_loss[i]))\n",
    "    \n",
    "    return epoch_loss"
   ]
  },
  {
   "cell_type": "code",
   "execution_count": 89,
   "id": "15f5ca28",
   "metadata": {},
   "outputs": [
    {
     "name": "stdout",
     "output_type": "stream",
     "text": [
      "PDE loss in 0th epoch:  3.2237e+00.\n",
      "PDE loss in 100th epoch:  5.0737e-02.\n",
      "PDE loss in 200th epoch:  2.0394e-02.\n",
      "PDE loss in 300th epoch:  1.3928e-02.\n",
      "PDE loss in 400th epoch:  6.8364e-03.\n",
      "PDE loss in 500th epoch:  7.4538e-02.\n",
      "PDE loss in 600th epoch:  7.3502e-03.\n",
      "PDE loss in 700th epoch:  8.3849e-03.\n",
      "PDE loss in 800th epoch:  5.4669e-03.\n",
      "PDE loss in 900th epoch:  4.8576e-03.\n",
      "PDE loss in 1000th epoch:  7.9862e-03.\n",
      "PDE loss in 1100th epoch:  7.6321e-02.\n",
      "PDE loss in 1200th epoch:  3.7208e-03.\n",
      "PDE loss in 1300th epoch:  4.3125e-02.\n",
      "PDE loss in 1400th epoch:  8.9405e-03.\n",
      "PDE loss in 1500th epoch:  4.5770e-03.\n",
      "PDE loss in 1600th epoch:  4.0588e-03.\n",
      "PDE loss in 1700th epoch:  2.0550e-03.\n",
      "PDE loss in 1800th epoch:  2.4251e-03.\n",
      "PDE loss in 1900th epoch:  5.2564e-03.\n",
      "PDE loss in 2000th epoch:  1.9283e-03.\n",
      "PDE loss in 2100th epoch:  2.3373e-03.\n",
      "PDE loss in 2200th epoch:  2.3046e-03.\n",
      "PDE loss in 2300th epoch:  9.4340e-03.\n",
      "PDE loss in 2400th epoch:  2.0107e-03.\n",
      "PDE loss in 2500th epoch:  1.6978e-03.\n",
      "PDE loss in 2600th epoch:  2.9827e-03.\n",
      "PDE loss in 2700th epoch:  1.6316e-03.\n",
      "PDE loss in 2800th epoch:  3.2809e-03.\n",
      "PDE loss in 2900th epoch:  3.8546e-03.\n",
      "PDE loss in 3000th epoch:  1.5931e-03.\n",
      "PDE loss in 3100th epoch:  8.2327e-03.\n",
      "PDE loss in 3200th epoch:  1.8622e-03.\n",
      "PDE loss in 3300th epoch:  1.3109e-03.\n",
      "PDE loss in 3400th epoch:  1.5203e-03.\n",
      "PDE loss in 3500th epoch:  1.4856e-03.\n",
      "PDE loss in 3600th epoch:  1.7116e-03.\n",
      "PDE loss in 3700th epoch:  1.1671e-03.\n",
      "PDE loss in 3800th epoch:  1.1763e-03.\n",
      "PDE loss in 3900th epoch:  8.3204e-04.\n",
      "PDE loss in 4000th epoch:  7.8472e-04.\n",
      "PDE loss in 4100th epoch:  6.9476e-04.\n",
      "PDE loss in 4200th epoch:  7.4397e-04.\n",
      "PDE loss in 4300th epoch:  4.9845e-04.\n",
      "PDE loss in 4400th epoch:  4.6213e-04.\n",
      "PDE loss in 4500th epoch:  5.2007e-04.\n",
      "PDE loss in 4600th epoch:  3.5483e-04.\n",
      "PDE loss in 4700th epoch:  2.9171e-04.\n",
      "PDE loss in 4800th epoch:  2.7267e-04.\n",
      "PDE loss in 4900th epoch:  2.5913e-04.\n",
      "PDE loss in 5000th epoch:  2.4789e-04.\n",
      "PDE loss in 5100th epoch:  2.4710e-04.\n",
      "PDE loss in 5200th epoch:  2.4650e-04.\n",
      "PDE loss in 5300th epoch:  2.4615e-04.\n",
      "PDE loss in 5400th epoch:  2.4549e-04.\n",
      "PDE loss in 5500th epoch:  2.4444e-04.\n",
      "PDE loss in 5600th epoch:  2.4366e-04.\n",
      "PDE loss in 5700th epoch:  2.4281e-04.\n",
      "PDE loss in 5800th epoch:  2.4184e-04.\n",
      "PDE loss in 5900th epoch:  2.4103e-04.\n",
      "PDE loss in 6000th epoch:  2.3978e-04.\n",
      "PDE loss in 6100th epoch:  2.3845e-04.\n",
      "PDE loss in 6200th epoch:  2.3699e-04.\n",
      "PDE loss in 6300th epoch:  2.3557e-04.\n",
      "PDE loss in 6400th epoch:  2.3408e-04.\n",
      "PDE loss in 6500th epoch:  2.3261e-04.\n",
      "PDE loss in 6600th epoch:  2.3080e-04.\n",
      "PDE loss in 6700th epoch:  2.2904e-04.\n",
      "PDE loss in 6800th epoch:  2.2750e-04.\n",
      "PDE loss in 6900th epoch:  2.2519e-04.\n",
      "PDE loss in 7000th epoch:  2.2302e-04.\n",
      "PDE loss in 7100th epoch:  2.2091e-04.\n",
      "PDE loss in 7200th epoch:  2.1908e-04.\n",
      "PDE loss in 7300th epoch:  2.1649e-04.\n",
      "PDE loss in 7400th epoch:  2.1466e-04.\n",
      "PDE loss in 7500th epoch:  2.1311e-04.\n",
      "PDE loss in 7600th epoch:  2.0902e-04.\n",
      "PDE loss in 7700th epoch:  2.0671e-04.\n",
      "PDE loss in 7800th epoch:  2.0425e-04.\n",
      "PDE loss in 7900th epoch:  2.0145e-04.\n",
      "PDE loss in 8000th epoch:  1.9910e-04.\n",
      "PDE loss in 8100th epoch:  1.9752e-04.\n",
      "PDE loss in 8200th epoch:  1.9413e-04.\n",
      "PDE loss in 8300th epoch:  1.9175e-04.\n",
      "PDE loss in 8400th epoch:  1.9060e-04.\n",
      "PDE loss in 8500th epoch:  1.8794e-04.\n",
      "PDE loss in 8600th epoch:  1.8540e-04.\n",
      "PDE loss in 8700th epoch:  1.8209e-04.\n",
      "PDE loss in 8800th epoch:  1.7977e-04.\n",
      "PDE loss in 8900th epoch:  1.7751e-04.\n",
      "PDE loss in 9000th epoch:  1.7529e-04.\n",
      "PDE loss in 9100th epoch:  1.7382e-04.\n",
      "PDE loss in 9200th epoch:  1.7182e-04.\n",
      "PDE loss in 9300th epoch:  1.6915e-04.\n",
      "PDE loss in 9400th epoch:  1.6688e-04.\n",
      "PDE loss in 9500th epoch:  1.6546e-04.\n",
      "PDE loss in 9600th epoch:  1.6330e-04.\n",
      "PDE loss in 9700th epoch:  1.6110e-04.\n",
      "PDE loss in 9800th epoch:  1.5959e-04.\n",
      "PDE loss in 9900th epoch:  1.5819e-04.\n",
      "PDE loss in 9999th epoch:  1.5530e-04.\n"
     ]
    }
   ],
   "source": [
    "epochs = 10000\n",
    "loss = PINNtrain(input_data,epochs)"
   ]
  },
  {
   "cell_type": "code",
   "execution_count": 90,
   "id": "f772e31e",
   "metadata": {
    "scrolled": true
   },
   "outputs": [
    {
     "data": {
      "image/png": "[encoded data removed]",
      "text/plain": [
       "<Figure size 432x288 with 1 Axes>"
      ]
     },
     "metadata": {
      "needs_background": "light"
     },
     "output_type": "display_data"
    }
   ],
   "source": [
    "plt.semilogy(range(0, epochs), loss)\n",
    "plt.xlabel('epochs')\n",
    "plt.ylabel('loss')\n",
    "\n",
    "plt.grid()\n",
    "plt.show()"
   ]
  },
  {
   "cell_type": "code",
   "execution_count": 97,
   "id": "a567dd79",
   "metadata": {
    "scrolled": true
   },
   "outputs": [
    {
     "data": {
      "image/png": "[encoded data removed]",
      "text/plain": [
       "<Figure size 432x288 with 1 Axes>"
      ]
     },
     "metadata": {
      "needs_background": "light"
     },
     "output_type": "display_data"
    }
   ],
   "source": [
    "x = np.linspace(-1,2,300)\n",
    "target = []\n",
    "\n",
    "for i in range(300): \n",
    "    target.append((np.exp(-x[i]**2/2))/(1+x[i]+x[i]**3) + x[i]**2)\n",
    "     \n",
    "plt.plot(x,1 + x*model1([x]).numpy().T[0], label = 'model1')\n",
    "plt.plot(x,target, label = 'target')\n",
    "plt.xlabel('x')\n",
    "plt.axis([-1,2,-10,20])\n",
    "plt.legend(loc =  'upper right')\n",
    "plt.grid()\n",
    "plt.show()"
   ]
  },
  {
   "cell_type": "code",
   "execution_count": 93,
   "id": "cc4686d0",
   "metadata": {},
   "outputs": [
    {
     "data": {
      "image/png": "[encoded data removed]",
      "text/plain": [
       "<Figure size 432x288 with 1 Axes>"
      ]
     },
     "metadata": {
      "needs_background": "light"
     },
     "output_type": "display_data"
    }
   ],
   "source": [
    "grid_points = np.linspace(0,1,10)\n",
    "x = np.linspace(0,1,100)\n",
    "target = []\n",
    "\n",
    "for i in range(100): \n",
    "    target.append((np.exp(-x[i]**2/2))/(1+x[i]+x[i]**3) + x[i]**2)\n",
    "\n",
    "plt.plot(x,target-(1 + x*model1([x]).numpy().T[0]))\n",
    "plt.plot(x,[0]*100, ':r')\n",
    "plt.plot(grid_points,[0]*10, 'o', color = 'red', mfc = 'none', markersize = 5, label = 'grid points')\n",
    "plt.ylabel('Solution Accuracy')\n",
    "plt.xlabel('x')\n",
    "plt.legend(loc = 'upper right')\n",
    "plt.grid()\n",
    "plt.show()"
   ]
  },
  {
   "cell_type": "code",
   "execution_count": null,
   "id": "7a5c81c6",
   "metadata": {},
   "outputs": [],
   "source": []
  }
 ],
 "metadata": {
  "kernelspec": {
   "display_name": "Python 3 (ipykernel)",
   "language": "python",
   "name": "python3"
  },
  "language_info": {
   "codemirror_mode": {
    "name": "ipython",
    "version": 3
   },
   "file_extension": ".py",
   "mimetype": "text/x-python",
   "name": "python",
   "nbconvert_exporter": "python",
   "pygments_lexer": "ipython3",
   "version": "3.9.13"
  }
 },
 "nbformat": 4,
 "nbformat_minor": 5
}
