{
 "cells": [
  {
   "cell_type": "code",
   "execution_count": 32,
   "id": "eca44703",
   "metadata": {},
   "outputs": [],
   "source": [
    "import matplotlib.pyplot as plt\n",
    "import numpy as np\n",
    "import tensorflow as tf\n",
    "from tensorflow import keras\n",
    "from tensorflow.keras import layers\n",
    "\n",
    "tf.keras.backend.set_floatx('float64')"
   ]
  },
  {
   "cell_type": "markdown",
   "id": "5aa0cd3c",
   "metadata": {},
   "source": [
    "### Define the network"
   ]
  },
  {
   "cell_type": "code",
   "execution_count": 33,
   "id": "1b665685",
   "metadata": {},
   "outputs": [
    {
     "name": "stdout",
     "output_type": "stream",
     "text": [
      "Model: \"sequential_4\"\n",
      "_________________________________________________________________\n",
      " Layer (type)                Output Shape              Param #   \n",
      "=================================================================\n",
      " dense_8 (Dense)             (None, 10)                20        \n",
      "                                                                 \n",
      " dense_9 (Dense)             (None, 1)                 10        \n",
      "                                                                 \n",
      "=================================================================\n",
      "Total params: 30\n",
      "Trainable params: 30\n",
      "Non-trainable params: 0\n",
      "_________________________________________________________________\n"
     ]
    }
   ],
   "source": [
    "H = 10\n",
    "\n",
    "model2 = keras.Sequential([\n",
    "    layers.Dense(units = H, activation = 'sigmoid', input_shape = (1,)),\n",
    "    layers.Dense(units = 1, activation = 'linear', use_bias = False)\n",
    "])\n",
    "\n",
    "model2.summary()"
   ]
  },
  {
   "cell_type": "markdown",
   "id": "8b9995e3",
   "metadata": {},
   "source": [
    "### Define grid points to use as input data"
   ]
  },
  {
   "cell_type": "code",
   "execution_count": 34,
   "id": "6213846c",
   "metadata": {},
   "outputs": [],
   "source": [
    "a = 0\n",
    "b = 2\n",
    "N = 8\n",
    "h = (b - a)/(N + 1)\n",
    "\n",
    "#domain discretization to be used as input data\n",
    "x = []\n",
    "for i in range(N + 2):\n",
    "    x.append(a + i*h)\n",
    "input_data = np.array(x)\n",
    "input_data = input_data.reshape(10,1)"
   ]
  },
  {
   "cell_type": "markdown",
   "id": "67707495",
   "metadata": {},
   "source": [
    "### Training routine"
   ]
  },
  {
   "cell_type": "code",
   "execution_count": 35,
   "id": "c32a9329",
   "metadata": {},
   "outputs": [],
   "source": [
    "def trainStep(x,opt):\n",
    "    \n",
    "    # Outer gradient for model parameters\n",
    "    with tf.GradientTape() as tape:\n",
    "        \n",
    "        # Inner gradient for first derivative of N wrt x\n",
    "        with tf.GradientTape() as tape1:\n",
    "            tape1.watch(x)\n",
    "                       \n",
    "            N = model2([x])\n",
    "            \n",
    "        Nx = tape1.gradient(N, x)\n",
    "        \n",
    "        # Plug trial solution into ODE:\n",
    "        eqn = x*Nx + (1+(1/5)*x)*N - np.exp(-x/5)*np.cos(x)\n",
    "        \n",
    "        loss = tf.reduce_sum(tf.square(eqn))\n",
    "        \n",
    "    # Compute the gradient of loss wrt model parameters\n",
    "    grads = tape.gradient(loss, model2.trainable_variables)\n",
    "    \n",
    "    # Gradient step\n",
    "    opt.apply_gradients(zip(grads, model2.trainable_variables))\n",
    "    \n",
    "    return loss"
   ]
  },
  {
   "cell_type": "code",
   "execution_count": 36,
   "id": "1bf8f087",
   "metadata": {},
   "outputs": [],
   "source": [
    "def PINNtrain(x, epochs):\n",
    "    \n",
    "    # Define an optimizer\n",
    "    lr = tf.keras.optimizers.schedules.PolynomialDecay(0.1, epochs, 1e-4)\n",
    "    opt = keras.optimizers.Adam(lr)\n",
    "    epoch_loss = np.zeros(epochs)\n",
    "    \n",
    "    input_data = np.column_stack([x]).astype(np.float64)\n",
    "    \n",
    "    batch_size = 5\n",
    "    data_sample = tf.data.Dataset.from_tensor_slices(input_data)\n",
    "    data_sample = data_sample.cache().shuffle(10).batch(batch_size)\n",
    "    \n",
    "    ds = tf.data.Dataset.zip((data_sample))\n",
    "    ds = ds.prefetch(tf.data.experimental.AUTOTUNE)\n",
    "    \n",
    "    # Main training loop\n",
    "    for i in range(epochs):\n",
    "        \n",
    "        for j in ds:\n",
    "            \n",
    "            PDEloss = trainStep(j,opt)\n",
    "            epoch_loss[i] += PDEloss\n",
    "\n",
    "        if np.mod(i, 100)==0 or i == 9999:\n",
    "          print(\"PDE loss in {}th epoch: {: 1.4e}.\".format(i, epoch_loss[i]))\n",
    "    \n",
    "    return epoch_loss"
   ]
  },
  {
   "cell_type": "code",
   "execution_count": 37,
   "id": "d4980905",
   "metadata": {},
   "outputs": [
    {
     "name": "stdout",
     "output_type": "stream",
     "text": [
      "PDE loss in 0th epoch:  9.2325e+00.\n",
      "PDE loss in 100th epoch:  6.9492e-03.\n",
      "PDE loss in 200th epoch:  4.1686e-03.\n",
      "PDE loss in 300th epoch:  1.9308e-03.\n",
      "PDE loss in 400th epoch:  5.9443e-04.\n",
      "PDE loss in 500th epoch:  2.5141e-03.\n",
      "PDE loss in 600th epoch:  3.9129e-04.\n",
      "PDE loss in 700th epoch:  6.9587e-04.\n",
      "PDE loss in 800th epoch:  1.5659e-04.\n",
      "PDE loss in 900th epoch:  5.5590e-04.\n",
      "PDE loss in 1000th epoch:  1.9740e-04.\n",
      "PDE loss in 1100th epoch:  2.1958e-04.\n",
      "PDE loss in 1200th epoch:  2.5139e-04.\n",
      "PDE loss in 1300th epoch:  1.3015e-03.\n",
      "PDE loss in 1400th epoch:  2.8025e-04.\n",
      "PDE loss in 1500th epoch:  9.1445e-04.\n",
      "PDE loss in 1600th epoch:  3.0968e-03.\n",
      "PDE loss in 1700th epoch:  5.2882e-03.\n",
      "PDE loss in 1800th epoch:  4.2178e-03.\n",
      "PDE loss in 1900th epoch:  1.5916e-03.\n",
      "PDE loss in 2000th epoch:  1.1916e-03.\n",
      "PDE loss in 2100th epoch:  2.7121e-04.\n",
      "PDE loss in 2200th epoch:  4.2043e-04.\n",
      "PDE loss in 2300th epoch:  8.5819e-04.\n",
      "PDE loss in 2400th epoch:  1.1624e-03.\n",
      "PDE loss in 2500th epoch:  6.2574e-04.\n",
      "PDE loss in 2600th epoch:  1.5231e-04.\n",
      "PDE loss in 2700th epoch:  1.0870e-03.\n",
      "PDE loss in 2800th epoch:  3.0164e-04.\n",
      "PDE loss in 2900th epoch:  2.7262e-04.\n",
      "PDE loss in 3000th epoch:  4.4835e-04.\n",
      "PDE loss in 3100th epoch:  3.0415e-04.\n",
      "PDE loss in 3200th epoch:  4.9505e-04.\n",
      "PDE loss in 3300th epoch:  3.7751e-04.\n",
      "PDE loss in 3400th epoch:  1.1794e-04.\n",
      "PDE loss in 3500th epoch:  6.9729e-05.\n",
      "PDE loss in 3600th epoch:  6.0903e-05.\n",
      "PDE loss in 3700th epoch:  9.5777e-05.\n",
      "PDE loss in 3800th epoch:  9.5734e-05.\n",
      "PDE loss in 3900th epoch:  4.0864e-05.\n",
      "PDE loss in 4000th epoch:  2.0560e-05.\n",
      "PDE loss in 4100th epoch:  1.3963e-05.\n",
      "PDE loss in 4200th epoch:  1.2307e-05.\n",
      "PDE loss in 4300th epoch:  1.1511e-05.\n",
      "PDE loss in 4400th epoch:  1.2932e-05.\n",
      "PDE loss in 4500th epoch:  3.2640e-06.\n",
      "PDE loss in 4600th epoch:  2.4389e-06.\n",
      "PDE loss in 4700th epoch:  1.8835e-06.\n",
      "PDE loss in 4800th epoch:  1.2091e-06.\n",
      "PDE loss in 4900th epoch:  9.3780e-07.\n",
      "PDE loss in 5000th epoch:  9.3471e-07.\n",
      "PDE loss in 5100th epoch:  9.3042e-07.\n",
      "PDE loss in 5200th epoch:  9.2806e-07.\n",
      "PDE loss in 5300th epoch:  9.2368e-07.\n",
      "PDE loss in 5400th epoch:  9.2065e-07.\n",
      "PDE loss in 5500th epoch:  9.1677e-07.\n",
      "PDE loss in 5600th epoch:  9.1114e-07.\n",
      "PDE loss in 5700th epoch:  9.0830e-07.\n",
      "PDE loss in 5800th epoch:  8.9452e-07.\n",
      "PDE loss in 5900th epoch:  8.7975e-07.\n",
      "PDE loss in 6000th epoch:  8.7759e-07.\n",
      "PDE loss in 6100th epoch:  8.6101e-07.\n",
      "PDE loss in 6200th epoch:  8.7288e-07.\n",
      "PDE loss in 6300th epoch:  8.6348e-07.\n",
      "PDE loss in 6400th epoch:  8.6033e-07.\n",
      "PDE loss in 6500th epoch:  8.2441e-07.\n",
      "PDE loss in 6600th epoch:  8.0631e-07.\n",
      "PDE loss in 6700th epoch:  7.8894e-07.\n",
      "PDE loss in 6800th epoch:  7.8742e-07.\n",
      "PDE loss in 6900th epoch:  7.5515e-07.\n",
      "PDE loss in 7000th epoch:  7.3798e-07.\n",
      "PDE loss in 7100th epoch:  7.1442e-07.\n",
      "PDE loss in 7200th epoch:  7.4712e-07.\n",
      "PDE loss in 7300th epoch:  7.0458e-07.\n",
      "PDE loss in 7400th epoch:  6.5873e-07.\n",
      "PDE loss in 7500th epoch:  6.3058e-07.\n",
      "PDE loss in 7600th epoch:  6.1962e-07.\n",
      "PDE loss in 7700th epoch:  5.9049e-07.\n",
      "PDE loss in 7800th epoch:  5.7347e-07.\n",
      "PDE loss in 7900th epoch:  5.4574e-07.\n",
      "PDE loss in 8000th epoch:  5.4505e-07.\n",
      "PDE loss in 8100th epoch:  5.1170e-07.\n",
      "PDE loss in 8200th epoch:  4.9101e-07.\n",
      "PDE loss in 8300th epoch:  5.4518e-07.\n",
      "PDE loss in 8400th epoch:  4.5282e-07.\n",
      "PDE loss in 8500th epoch:  4.3061e-07.\n",
      "PDE loss in 8600th epoch:  4.0762e-07.\n",
      "PDE loss in 8700th epoch:  4.6651e-07.\n",
      "PDE loss in 8800th epoch:  4.2492e-07.\n",
      "PDE loss in 8900th epoch:  3.7810e-07.\n",
      "PDE loss in 9000th epoch:  4.0709e-07.\n",
      "PDE loss in 9100th epoch:  4.3500e-07.\n",
      "PDE loss in 9200th epoch:  4.6213e-07.\n",
      "PDE loss in 9300th epoch:  3.6337e-07.\n",
      "PDE loss in 9400th epoch:  3.5508e-07.\n",
      "PDE loss in 9500th epoch:  4.2224e-07.\n",
      "PDE loss in 9600th epoch:  3.3247e-07.\n",
      "PDE loss in 9700th epoch:  3.5603e-07.\n",
      "PDE loss in 9800th epoch:  3.8262e-07.\n",
      "PDE loss in 9900th epoch:  3.3607e-07.\n",
      "PDE loss in 9999th epoch:  3.6242e-07.\n"
     ]
    }
   ],
   "source": [
    "epochs = 10000\n",
    "loss = PINNtrain(input_data,epochs)"
   ]
  },
  {
   "cell_type": "code",
   "execution_count": 38,
   "id": "238d0630",
   "metadata": {
    "scrolled": true
   },
   "outputs": [
    {
     "data": {
      "image/png": "[encoded data removed]",
      "text/plain": [
       "<Figure size 432x288 with 1 Axes>"
      ]
     },
     "metadata": {
      "needs_background": "light"
     },
     "output_type": "display_data"
    }
   ],
   "source": [
    "plt.semilogy(range(0, epochs), loss)\n",
    "plt.xlabel('epochs')\n",
    "plt.ylabel('loss')\n",
    "\n",
    "plt.grid()\n",
    "plt.show()"
   ]
  },
  {
   "cell_type": "code",
   "execution_count": 39,
   "id": "61989b85",
   "metadata": {},
   "outputs": [
    {
     "data": {
      "image/png": "[encoded data removed]",
      "text/plain": [
       "<Figure size 432x288 with 1 Axes>"
      ]
     },
     "metadata": {
      "needs_background": "light"
     },
     "output_type": "display_data"
    }
   ],
   "source": [
    "x = np.linspace(-2,4,600)\n",
    "target = []\n",
    "\n",
    "for i in range(600): \n",
    "    target.append(np.exp(-x[i]/5)*np.sin(x[i])) \n",
    "    \n",
    "plt.plot(x,x*(model2([x]).numpy().T[0]), label = 'model2')\n",
    "plt.plot(x,target, label = 'target')\n",
    "plt.xlabel('x')\n",
    "plt.legend(loc =  'upper left')\n",
    "plt.grid()\n",
    "plt.show()"
   ]
  },
  {
   "cell_type": "code",
   "execution_count": 40,
   "id": "2d25350a",
   "metadata": {
    "scrolled": true
   },
   "outputs": [
    {
     "data": {
      "image/png": "[encoded data removed]",
      "text/plain": [
       "<Figure size 432x288 with 1 Axes>"
      ]
     },
     "metadata": {
      "needs_background": "light"
     },
     "output_type": "display_data"
    }
   ],
   "source": [
    "grid_points = np.linspace(0,1,10)\n",
    "x = np.linspace(0,1,100)\n",
    "target = []\n",
    "\n",
    "for i in range(100): \n",
    "    target.append(np.exp(-x[i]/5)*np.sin(x[i])) \n",
    "\n",
    "plt.plot(x,target-(x*model2([x]).numpy().T[0]))\n",
    "plt.plot(x,[0]*100, ':r')\n",
    "plt.plot(grid_points,[0]*10, 'o', color = 'red', mfc = 'none', markersize = 5, label = 'grid points')\n",
    "plt.ylabel('Solution Accuracy')\n",
    "plt.xlabel('x')\n",
    "plt.legend(loc = 'upper right')\n",
    "plt.grid()\n",
    "plt.show()"
   ]
  },
  {
   "cell_type": "code",
   "execution_count": null,
   "id": "72f02dca",
   "metadata": {},
   "outputs": [],
   "source": []
  }
 ],
 "metadata": {
  "kernelspec": {
   "display_name": "Python 3 (ipykernel)",
   "language": "python",
   "name": "python3"
  },
  "language_info": {
   "codemirror_mode": {
    "name": "ipython",
    "version": 3
   },
   "file_extension": ".py",
   "mimetype": "text/x-python",
   "name": "python",
   "nbconvert_exporter": "python",
   "pygments_lexer": "ipython3",
   "version": "3.9.13"
  }
 },
 "nbformat": 4,
 "nbformat_minor": 5
}
